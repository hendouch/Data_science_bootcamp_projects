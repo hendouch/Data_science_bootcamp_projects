{
 "cells": [
  {
   "cell_type": "code",
   "execution_count": 1,
   "metadata": {},
   "outputs": [],
   "source": [
    "import pandas as pd\n",
    "from sklearn.feature_extraction.text import TfidfVectorizer\n",
    "from sklearn.feature_extraction.text import TfidfTransformer\n",
    "from sklearn.naive_bayes import MultinomialNB  \n",
    "from sklearn.pipeline import make_pipeline\n",
    "from sklearn.ensemble import RandomForestClassifier\n",
    "from sklearn.compose import make_column_transformer\n",
    "from sklearn.preprocessing import OrdinalEncoder\n",
    "from sklearn.feature_extraction.text import CountVectorizer"
   ]
  },
  {
   "cell_type": "code",
   "execution_count": 2,
   "metadata": {
    "scrolled": true
   },
   "outputs": [
    {
     "data": {
      "text/html": [
       "<div>\n",
       "<style scoped>\n",
       "    .dataframe tbody tr th:only-of-type {\n",
       "        vertical-align: middle;\n",
       "    }\n",
       "\n",
       "    .dataframe tbody tr th {\n",
       "        vertical-align: top;\n",
       "    }\n",
       "\n",
       "    .dataframe thead th {\n",
       "        text-align: right;\n",
       "    }\n",
       "</style>\n",
       "<table border=\"1\" class=\"dataframe\">\n",
       "  <thead>\n",
       "    <tr style=\"text-align: right;\">\n",
       "      <th></th>\n",
       "      <th>Unnamed: 0</th>\n",
       "      <th>Song_title</th>\n",
       "      <th>Links</th>\n",
       "      <th>Lyrics</th>\n",
       "      <th>Artist_name</th>\n",
       "    </tr>\n",
       "  </thead>\n",
       "  <tbody>\n",
       "    <tr>\n",
       "      <th>0</th>\n",
       "      <td>0</td>\n",
       "      <td>Go Up</td>\n",
       "      <td>https://www.lyrics.com/lyric/37175019/SB19/Go+Up</td>\n",
       "      <td>Yeah, we gonna go up\\nYeah, yeah, we gonna go ...</td>\n",
       "      <td>SB_nineteen</td>\n",
       "    </tr>\n",
       "    <tr>\n",
       "      <th>1</th>\n",
       "      <td>1</td>\n",
       "      <td>Wag Mong Ikunot Ang Iyong Noo</td>\n",
       "      <td>https://www.lyrics.com/lyric-lf/2253635/SB19/W...</td>\n",
       "      <td>NaN</td>\n",
       "      <td>SB_nineteen</td>\n",
       "    </tr>\n",
       "    <tr>\n",
       "      <th>2</th>\n",
       "      <td>2</td>\n",
       "      <td>Bazinga</td>\n",
       "      <td>https://www.lyrics.com/lyric-lf/6222810/SB19/B...</td>\n",
       "      <td>Every day I think the load gets heavy\\nThrow i...</td>\n",
       "      <td>SB_nineteen</td>\n",
       "    </tr>\n",
       "    <tr>\n",
       "      <th>3</th>\n",
       "      <td>3</td>\n",
       "      <td>Mana</td>\n",
       "      <td>https://www.lyrics.com/lyric-lf/6222809/SB19/Mana</td>\n",
       "      <td>Hindi ba mahiwaga di mo kilala nung nasa lupa ...</td>\n",
       "      <td>SB_nineteen</td>\n",
       "    </tr>\n",
       "    <tr>\n",
       "      <th>4</th>\n",
       "      <td>4</td>\n",
       "      <td>MAPA [Band]</td>\n",
       "      <td>https://www.lyrics.com/lyric-lf/5890652/SB19/M...</td>\n",
       "      <td>NaN</td>\n",
       "      <td>SB_nineteen</td>\n",
       "    </tr>\n",
       "    <tr>\n",
       "      <th>...</th>\n",
       "      <td>...</td>\n",
       "      <td>...</td>\n",
       "      <td>...</td>\n",
       "      <td>...</td>\n",
       "      <td>...</td>\n",
       "    </tr>\n",
       "    <tr>\n",
       "      <th>370</th>\n",
       "      <td>370</td>\n",
       "      <td>Right Now</td>\n",
       "      <td>https://www.lyrics.com/lyric/37247652/Cardi+B/...</td>\n",
       "      <td>(Swiftondemand) You were the man yesterday\\nI'...</td>\n",
       "      <td>Cardi-B</td>\n",
       "    </tr>\n",
       "    <tr>\n",
       "      <th>371</th>\n",
       "      <td>371</td>\n",
       "      <td>Girls Like You</td>\n",
       "      <td>https://www.lyrics.com/lyric/37109271/Cardi+B/...</td>\n",
       "      <td>Spent 24 hours\\nI need more hours with you\\nYo...</td>\n",
       "      <td>Cardi-B</td>\n",
       "    </tr>\n",
       "    <tr>\n",
       "      <th>372</th>\n",
       "      <td>372</td>\n",
       "      <td>Taki Taki</td>\n",
       "      <td>https://www.lyrics.com/lyric/36894478/Cardi+B/...</td>\n",
       "      <td>Wo-oh, oh-oh\\n\\nBáilame como si fuera la últim...</td>\n",
       "      <td>Cardi-B</td>\n",
       "    </tr>\n",
       "    <tr>\n",
       "      <th>373</th>\n",
       "      <td>373</td>\n",
       "      <td>Girls</td>\n",
       "      <td>https://www.lyrics.com/lyric/36097107/Cardi+B/...</td>\n",
       "      <td>Her name is Lara, we learned a lotta\\nHow to d...</td>\n",
       "      <td>Cardi-B</td>\n",
       "    </tr>\n",
       "    <tr>\n",
       "      <th>374</th>\n",
       "      <td>374</td>\n",
       "      <td>Tomorrow 2</td>\n",
       "      <td>https://www.lyrics.com/lyric-lf/8509158/Cardi+...</td>\n",
       "      <td>(Cheese, his name is Cheese)\\nThey say they do...</td>\n",
       "      <td>Cardi-B</td>\n",
       "    </tr>\n",
       "  </tbody>\n",
       "</table>\n",
       "<p>375 rows × 5 columns</p>\n",
       "</div>"
      ],
      "text/plain": [
       "     Unnamed: 0                     Song_title  \\\n",
       "0             0                          Go Up   \n",
       "1             1  Wag Mong Ikunot Ang Iyong Noo   \n",
       "2             2                        Bazinga   \n",
       "3             3                           Mana   \n",
       "4             4                    MAPA [Band]   \n",
       "..          ...                            ...   \n",
       "370         370                      Right Now   \n",
       "371         371                 Girls Like You   \n",
       "372         372                      Taki Taki   \n",
       "373         373                          Girls   \n",
       "374         374                     Tomorrow 2   \n",
       "\n",
       "                                                 Links  \\\n",
       "0     https://www.lyrics.com/lyric/37175019/SB19/Go+Up   \n",
       "1    https://www.lyrics.com/lyric-lf/2253635/SB19/W...   \n",
       "2    https://www.lyrics.com/lyric-lf/6222810/SB19/B...   \n",
       "3    https://www.lyrics.com/lyric-lf/6222809/SB19/Mana   \n",
       "4    https://www.lyrics.com/lyric-lf/5890652/SB19/M...   \n",
       "..                                                 ...   \n",
       "370  https://www.lyrics.com/lyric/37247652/Cardi+B/...   \n",
       "371  https://www.lyrics.com/lyric/37109271/Cardi+B/...   \n",
       "372  https://www.lyrics.com/lyric/36894478/Cardi+B/...   \n",
       "373  https://www.lyrics.com/lyric/36097107/Cardi+B/...   \n",
       "374  https://www.lyrics.com/lyric-lf/8509158/Cardi+...   \n",
       "\n",
       "                                                Lyrics  Artist_name  \n",
       "0    Yeah, we gonna go up\\nYeah, yeah, we gonna go ...  SB_nineteen  \n",
       "1                                                  NaN  SB_nineteen  \n",
       "2    Every day I think the load gets heavy\\nThrow i...  SB_nineteen  \n",
       "3    Hindi ba mahiwaga di mo kilala nung nasa lupa ...  SB_nineteen  \n",
       "4                                                  NaN  SB_nineteen  \n",
       "..                                                 ...          ...  \n",
       "370  (Swiftondemand) You were the man yesterday\\nI'...      Cardi-B  \n",
       "371  Spent 24 hours\\nI need more hours with you\\nYo...      Cardi-B  \n",
       "372  Wo-oh, oh-oh\\n\\nBáilame como si fuera la últim...      Cardi-B  \n",
       "373  Her name is Lara, we learned a lotta\\nHow to d...      Cardi-B  \n",
       "374  (Cheese, his name is Cheese)\\nThey say they do...      Cardi-B  \n",
       "\n",
       "[375 rows x 5 columns]"
      ]
     },
     "execution_count": 2,
     "metadata": {},
     "output_type": "execute_result"
    }
   ],
   "source": [
    "df=pd.read_csv('lyrics.csv')\n",
    "df"
   ]
  },
  {
   "cell_type": "code",
   "execution_count": 3,
   "metadata": {},
   "outputs": [],
   "source": [
    "ldf=df.dropna()"
   ]
  },
  {
   "cell_type": "code",
   "execution_count": 4,
   "metadata": {
    "scrolled": true
   },
   "outputs": [],
   "source": [
    "ldf1=ldf.drop_duplicates()"
   ]
  },
  {
   "cell_type": "code",
   "execution_count": 5,
   "metadata": {},
   "outputs": [
    {
     "data": {
      "text/plain": [
       "Cardi-B        229\n",
       "BTS            126\n",
       "SB_nineteen     20\n",
       "Name: Artist_name, dtype: int64"
      ]
     },
     "execution_count": 5,
     "metadata": {},
     "output_type": "execute_result"
    }
   ],
   "source": [
    "df['Artist_name'].value_counts()"
   ]
  },
  {
   "cell_type": "code",
   "execution_count": 6,
   "metadata": {
    "scrolled": false
   },
   "outputs": [
    {
     "data": {
      "text/plain": [
       "Cardi-B        61.066667\n",
       "BTS            33.600000\n",
       "SB_nineteen     5.333333\n",
       "Name: Artist_name, dtype: float64"
      ]
     },
     "execution_count": 6,
     "metadata": {},
     "output_type": "execute_result"
    }
   ],
   "source": [
    "df['Artist_name'].value_counts(normalize=True) * 100"
   ]
  },
  {
   "cell_type": "code",
   "execution_count": 7,
   "metadata": {
    "scrolled": true
   },
   "outputs": [],
   "source": [
    "corpus = ldf1['Lyrics']\n",
    "labels = ldf1['Artist_name'] "
   ]
  },
  {
   "cell_type": "code",
   "execution_count": 8,
   "metadata": {},
   "outputs": [],
   "source": [
    "corpus = [s.lower() for s in corpus]"
   ]
  },
  {
   "cell_type": "code",
   "execution_count": 9,
   "metadata": {},
   "outputs": [],
   "source": [
    "def train_naive_bayes(corpus, labels):\n",
    "    tf_vec = TfidfVectorizer()\n",
    "    nb = MultinomialNB(alpha = 1)\n",
    "    model = make_pipeline(tf_vec, nb)\n",
    "    model.fit(corpus, labels)\n",
    "    \n",
    "    return model\n",
    " \n",
    "\n",
    "def predict_naive_bayes(model, new_text):\n",
    "    new_text = [new_text]\n",
    "    prediction = model.predict(new_text)\n",
    "    probabilities = model.predict_proba(new_text)\n",
    "    \n",
    "    return prediction[0], probabilities"
   ]
  },
  {
   "cell_type": "code",
   "execution_count": 10,
   "metadata": {},
   "outputs": [],
   "source": [
    "model_naive_bayes = train_naive_bayes(corpus, labels)"
   ]
  },
  {
   "cell_type": "code",
   "execution_count": 11,
   "metadata": {},
   "outputs": [
    {
     "data": {
      "text/plain": [
       "('Cardi-B', array([[0.20575319, 0.75847451, 0.0357723 ]]))"
      ]
     },
     "execution_count": 11,
     "metadata": {},
     "output_type": "execute_result"
    }
   ],
   "source": [
    "predict_naive_bayes(model_naive_bayes, 'one')"
   ]
  },
  {
   "cell_type": "code",
   "execution_count": 12,
   "metadata": {},
   "outputs": [
    {
     "data": {
      "text/plain": [
       "('Cardi-B', array([[0.29480351, 0.65740183, 0.04779466]]))"
      ]
     },
     "execution_count": 12,
     "metadata": {},
     "output_type": "execute_result"
    }
   ],
   "source": [
    "predict_naive_bayes(model_naive_bayes, 'hate')"
   ]
  },
  {
   "cell_type": "code",
   "execution_count": 13,
   "metadata": {},
   "outputs": [
    {
     "data": {
      "text/plain": [
       "('Cardi-B', array([[0.32732517, 0.51918916, 0.15348566]]))"
      ]
     },
     "execution_count": 13,
     "metadata": {},
     "output_type": "execute_result"
    }
   ],
   "source": [
    "predict_naive_bayes(model_naive_bayes, 'Sa tuwing ika y nakikita')"
   ]
  },
  {
   "cell_type": "code",
   "execution_count": null,
   "metadata": {},
   "outputs": [],
   "source": []
  },
  {
   "cell_type": "code",
   "execution_count": 14,
   "metadata": {},
   "outputs": [],
   "source": [
    "def train_RandomForestClassifier(corpus, labels):\n",
    "                                \n",
    "    #cv = CountVectorizer(stop_words='english', ngram_range=(1, 1))\n",
    "    tfv = TfidfVectorizer()\n",
    "    #tft = TfidfTransformer()\n",
    "    rf = RandomForestClassifier(max_depth=2, n_estimators=20)\n",
    "    model1 = make_pipeline(tfv,rf)\n",
    "    model1.fit(corpus, labels)\n",
    "    \n",
    "    return model1\n",
    "def predict_RandomForestClassifier(model1, new_text):\n",
    "    new_text = [new_text]\n",
    "    prediction = model1.predict(new_text)\n",
    "    probabilities = model1.predict_proba(new_text)\n",
    "    \n",
    "    return prediction[0], probabilities\n"
   ]
  },
  {
   "cell_type": "code",
   "execution_count": 15,
   "metadata": {},
   "outputs": [],
   "source": [
    "model_RandomForestClassifier = train_RandomForestClassifier(corpus, labels)"
   ]
  },
  {
   "cell_type": "code",
   "execution_count": 16,
   "metadata": {},
   "outputs": [
    {
     "data": {
      "text/plain": [
       "('BTS', array([[0.55691387, 0.34791235, 0.09517379]]))"
      ]
     },
     "execution_count": 16,
     "metadata": {},
     "output_type": "execute_result"
    }
   ],
   "source": [
    "predict_RandomForestClassifier(model_RandomForestClassifier, 'Sa tuwing ika y nakikita')"
   ]
  },
  {
   "cell_type": "code",
   "execution_count": null,
   "metadata": {},
   "outputs": [],
   "source": []
  }
 ],
 "metadata": {
  "kernelspec": {
   "display_name": "Python 3",
   "language": "python",
   "name": "python3"
  },
  "language_info": {
   "codemirror_mode": {
    "name": "ipython",
    "version": 3
   },
   "file_extension": ".py",
   "mimetype": "text/x-python",
   "name": "python",
   "nbconvert_exporter": "python",
   "pygments_lexer": "ipython3",
   "version": "3.8.3"
  },
  "vscode": {
   "interpreter": {
    "hash": "3cecb71c05f15b95fcdfbcdc224899b775565600469b3040fe586d4c3c10465b"
   }
  }
 },
 "nbformat": 4,
 "nbformat_minor": 4
}
