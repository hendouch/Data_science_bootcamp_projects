{
 "cells": [
  {
   "cell_type": "code",
   "execution_count": 1,
   "id": "5a443879",
   "metadata": {},
   "outputs": [],
   "source": [
    "import pandas as pd\n",
    "import numpy as np\n",
    "import seaborn as sns\n",
    "import random"
   ]
  },
  {
   "cell_type": "code",
   "execution_count": 2,
   "id": "af7fa99d",
   "metadata": {},
   "outputs": [],
   "source": [
    "m = pd.read_csv('monday.csv', sep=\";\", parse_dates=True, index_col=\"timestamp\")\n",
    "t = pd.read_csv('tuesday.csv', sep=\";\", parse_dates=True, index_col=\"timestamp\")\n",
    "w = pd.read_csv('wednesday.csv', sep=\";\", parse_dates=True, index_col=\"timestamp\")\n",
    "th = pd.read_csv('thursday.csv', sep=\";\", parse_dates=True, index_col=\"timestamp\")\n",
    "f = pd.read_csv('friday.csv', sep=\";\", parse_dates=True, index_col=\"timestamp\")"
   ]
  },
  {
   "cell_type": "code",
   "execution_count": 3,
   "id": "01702db2",
   "metadata": {},
   "outputs": [],
   "source": [
    "m['ID'] = \"Monday_\" + m['customer_no'].astype(str)\n",
    "t['ID'] = \"Tuesday_\" + t['customer_no'].astype(str)\n",
    "w['ID'] = \"Wednesday_\" + w['customer_no'].astype(str)\n",
    "th['ID'] = \"Thursday_\" + th['customer_no'].astype(str)\n",
    "f['ID'] = \"Friday_\" + f['customer_no'].astype(str)"
   ]
  },
  {
   "cell_type": "code",
   "execution_count": 4,
   "id": "782c56cd",
   "metadata": {
    "scrolled": true
   },
   "outputs": [
    {
     "data": {
      "text/html": [
       "<div>\n",
       "<style scoped>\n",
       "    .dataframe tbody tr th:only-of-type {\n",
       "        vertical-align: middle;\n",
       "    }\n",
       "\n",
       "    .dataframe tbody tr th {\n",
       "        vertical-align: top;\n",
       "    }\n",
       "\n",
       "    .dataframe thead th {\n",
       "        text-align: right;\n",
       "    }\n",
       "</style>\n",
       "<table border=\"1\" class=\"dataframe\">\n",
       "  <thead>\n",
       "    <tr style=\"text-align: right;\">\n",
       "      <th></th>\n",
       "      <th>customer_no</th>\n",
       "      <th>location</th>\n",
       "      <th>ID</th>\n",
       "    </tr>\n",
       "    <tr>\n",
       "      <th>timestamp</th>\n",
       "      <th></th>\n",
       "      <th></th>\n",
       "      <th></th>\n",
       "    </tr>\n",
       "  </thead>\n",
       "  <tbody>\n",
       "    <tr>\n",
       "      <th>2019-09-02 07:03:00</th>\n",
       "      <td>1</td>\n",
       "      <td>dairy</td>\n",
       "      <td>Monday_1</td>\n",
       "    </tr>\n",
       "    <tr>\n",
       "      <th>2019-09-02 07:03:00</th>\n",
       "      <td>2</td>\n",
       "      <td>dairy</td>\n",
       "      <td>Monday_2</td>\n",
       "    </tr>\n",
       "    <tr>\n",
       "      <th>2019-09-02 07:04:00</th>\n",
       "      <td>3</td>\n",
       "      <td>dairy</td>\n",
       "      <td>Monday_3</td>\n",
       "    </tr>\n",
       "    <tr>\n",
       "      <th>2019-09-02 07:04:00</th>\n",
       "      <td>4</td>\n",
       "      <td>dairy</td>\n",
       "      <td>Monday_4</td>\n",
       "    </tr>\n",
       "    <tr>\n",
       "      <th>2019-09-02 07:04:00</th>\n",
       "      <td>5</td>\n",
       "      <td>spices</td>\n",
       "      <td>Monday_5</td>\n",
       "    </tr>\n",
       "    <tr>\n",
       "      <th>...</th>\n",
       "      <td>...</td>\n",
       "      <td>...</td>\n",
       "      <td>...</td>\n",
       "    </tr>\n",
       "    <tr>\n",
       "      <th>2019-09-06 21:50:00</th>\n",
       "      <td>1500</td>\n",
       "      <td>dairy</td>\n",
       "      <td>Friday_1500</td>\n",
       "    </tr>\n",
       "    <tr>\n",
       "      <th>2019-09-06 21:50:00</th>\n",
       "      <td>1507</td>\n",
       "      <td>checkout</td>\n",
       "      <td>Friday_1507</td>\n",
       "    </tr>\n",
       "    <tr>\n",
       "      <th>2019-09-06 21:50:00</th>\n",
       "      <td>1508</td>\n",
       "      <td>checkout</td>\n",
       "      <td>Friday_1508</td>\n",
       "    </tr>\n",
       "    <tr>\n",
       "      <th>2019-09-06 21:50:00</th>\n",
       "      <td>1509</td>\n",
       "      <td>drinks</td>\n",
       "      <td>Friday_1509</td>\n",
       "    </tr>\n",
       "    <tr>\n",
       "      <th>2019-09-06 21:50:00</th>\n",
       "      <td>1510</td>\n",
       "      <td>spices</td>\n",
       "      <td>Friday_1510</td>\n",
       "    </tr>\n",
       "  </tbody>\n",
       "</table>\n",
       "<p>24877 rows × 3 columns</p>\n",
       "</div>"
      ],
      "text/plain": [
       "                     customer_no  location           ID\n",
       "timestamp                                              \n",
       "2019-09-02 07:03:00            1     dairy     Monday_1\n",
       "2019-09-02 07:03:00            2     dairy     Monday_2\n",
       "2019-09-02 07:04:00            3     dairy     Monday_3\n",
       "2019-09-02 07:04:00            4     dairy     Monday_4\n",
       "2019-09-02 07:04:00            5    spices     Monday_5\n",
       "...                          ...       ...          ...\n",
       "2019-09-06 21:50:00         1500     dairy  Friday_1500\n",
       "2019-09-06 21:50:00         1507  checkout  Friday_1507\n",
       "2019-09-06 21:50:00         1508  checkout  Friday_1508\n",
       "2019-09-06 21:50:00         1509    drinks  Friday_1509\n",
       "2019-09-06 21:50:00         1510    spices  Friday_1510\n",
       "\n",
       "[24877 rows x 3 columns]"
      ]
     },
     "execution_count": 4,
     "metadata": {},
     "output_type": "execute_result"
    }
   ],
   "source": [
    "frames = [m, t, w, th, f]\n",
    "df = pd.concat(frames)\n",
    "df"
   ]
  },
  {
   "cell_type": "code",
   "execution_count": 5,
   "id": "418cb49b",
   "metadata": {},
   "outputs": [
    {
     "data": {
      "text/plain": [
       "array(['dairy', 'spices', 'fruit', 'checkout', 'drinks'], dtype=object)"
      ]
     },
     "execution_count": 5,
     "metadata": {},
     "output_type": "execute_result"
    }
   ],
   "source": [
    "df['location'].unique()"
   ]
  },
  {
   "cell_type": "code",
   "execution_count": 6,
   "id": "5a0a3830",
   "metadata": {},
   "outputs": [
    {
     "name": "stdout",
     "output_type": "stream",
     "text": [
      "<class 'pandas.core.frame.DataFrame'>\n",
      "DatetimeIndex: 24877 entries, 2019-09-02 07:03:00 to 2019-09-06 21:50:00\n",
      "Data columns (total 3 columns):\n",
      " #   Column       Non-Null Count  Dtype \n",
      "---  ------       --------------  ----- \n",
      " 0   customer_no  24877 non-null  int64 \n",
      " 1   location     24877 non-null  object\n",
      " 2   ID           24877 non-null  object\n",
      "dtypes: int64(1), object(2)\n",
      "memory usage: 777.4+ KB\n"
     ]
    }
   ],
   "source": [
    "df.info()"
   ]
  },
  {
   "cell_type": "code",
   "execution_count": 7,
   "id": "585615fa",
   "metadata": {},
   "outputs": [
    {
     "data": {
      "text/html": [
       "<div>\n",
       "<style scoped>\n",
       "    .dataframe tbody tr th:only-of-type {\n",
       "        vertical-align: middle;\n",
       "    }\n",
       "\n",
       "    .dataframe tbody tr th {\n",
       "        vertical-align: top;\n",
       "    }\n",
       "\n",
       "    .dataframe thead th {\n",
       "        text-align: right;\n",
       "    }\n",
       "</style>\n",
       "<table border=\"1\" class=\"dataframe\">\n",
       "  <thead>\n",
       "    <tr style=\"text-align: right;\">\n",
       "      <th></th>\n",
       "      <th>customer_no</th>\n",
       "      <th>location</th>\n",
       "      <th>ID</th>\n",
       "      <th>day</th>\n",
       "      <th>time</th>\n",
       "      <th>minute</th>\n",
       "    </tr>\n",
       "    <tr>\n",
       "      <th>timestamp</th>\n",
       "      <th></th>\n",
       "      <th></th>\n",
       "      <th></th>\n",
       "      <th></th>\n",
       "      <th></th>\n",
       "      <th></th>\n",
       "    </tr>\n",
       "  </thead>\n",
       "  <tbody>\n",
       "    <tr>\n",
       "      <th>2019-09-02 07:03:00</th>\n",
       "      <td>1</td>\n",
       "      <td>dairy</td>\n",
       "      <td>Monday_1</td>\n",
       "      <td>Monday</td>\n",
       "      <td>07:03:00</td>\n",
       "      <td>3</td>\n",
       "    </tr>\n",
       "    <tr>\n",
       "      <th>2019-09-02 07:03:00</th>\n",
       "      <td>2</td>\n",
       "      <td>dairy</td>\n",
       "      <td>Monday_2</td>\n",
       "      <td>Monday</td>\n",
       "      <td>07:03:00</td>\n",
       "      <td>3</td>\n",
       "    </tr>\n",
       "    <tr>\n",
       "      <th>2019-09-02 07:04:00</th>\n",
       "      <td>3</td>\n",
       "      <td>dairy</td>\n",
       "      <td>Monday_3</td>\n",
       "      <td>Monday</td>\n",
       "      <td>07:04:00</td>\n",
       "      <td>4</td>\n",
       "    </tr>\n",
       "    <tr>\n",
       "      <th>2019-09-02 07:04:00</th>\n",
       "      <td>4</td>\n",
       "      <td>dairy</td>\n",
       "      <td>Monday_4</td>\n",
       "      <td>Monday</td>\n",
       "      <td>07:04:00</td>\n",
       "      <td>4</td>\n",
       "    </tr>\n",
       "    <tr>\n",
       "      <th>2019-09-02 07:04:00</th>\n",
       "      <td>5</td>\n",
       "      <td>spices</td>\n",
       "      <td>Monday_5</td>\n",
       "      <td>Monday</td>\n",
       "      <td>07:04:00</td>\n",
       "      <td>4</td>\n",
       "    </tr>\n",
       "    <tr>\n",
       "      <th>...</th>\n",
       "      <td>...</td>\n",
       "      <td>...</td>\n",
       "      <td>...</td>\n",
       "      <td>...</td>\n",
       "      <td>...</td>\n",
       "      <td>...</td>\n",
       "    </tr>\n",
       "    <tr>\n",
       "      <th>2019-09-06 21:50:00</th>\n",
       "      <td>1500</td>\n",
       "      <td>dairy</td>\n",
       "      <td>Friday_1500</td>\n",
       "      <td>Friday</td>\n",
       "      <td>21:50:00</td>\n",
       "      <td>50</td>\n",
       "    </tr>\n",
       "    <tr>\n",
       "      <th>2019-09-06 21:50:00</th>\n",
       "      <td>1507</td>\n",
       "      <td>checkout</td>\n",
       "      <td>Friday_1507</td>\n",
       "      <td>Friday</td>\n",
       "      <td>21:50:00</td>\n",
       "      <td>50</td>\n",
       "    </tr>\n",
       "    <tr>\n",
       "      <th>2019-09-06 21:50:00</th>\n",
       "      <td>1508</td>\n",
       "      <td>checkout</td>\n",
       "      <td>Friday_1508</td>\n",
       "      <td>Friday</td>\n",
       "      <td>21:50:00</td>\n",
       "      <td>50</td>\n",
       "    </tr>\n",
       "    <tr>\n",
       "      <th>2019-09-06 21:50:00</th>\n",
       "      <td>1509</td>\n",
       "      <td>drinks</td>\n",
       "      <td>Friday_1509</td>\n",
       "      <td>Friday</td>\n",
       "      <td>21:50:00</td>\n",
       "      <td>50</td>\n",
       "    </tr>\n",
       "    <tr>\n",
       "      <th>2019-09-06 21:50:00</th>\n",
       "      <td>1510</td>\n",
       "      <td>spices</td>\n",
       "      <td>Friday_1510</td>\n",
       "      <td>Friday</td>\n",
       "      <td>21:50:00</td>\n",
       "      <td>50</td>\n",
       "    </tr>\n",
       "  </tbody>\n",
       "</table>\n",
       "<p>24877 rows × 6 columns</p>\n",
       "</div>"
      ],
      "text/plain": [
       "                     customer_no  location           ID     day      time  \\\n",
       "timestamp                                                                   \n",
       "2019-09-02 07:03:00            1     dairy     Monday_1  Monday  07:03:00   \n",
       "2019-09-02 07:03:00            2     dairy     Monday_2  Monday  07:03:00   \n",
       "2019-09-02 07:04:00            3     dairy     Monday_3  Monday  07:04:00   \n",
       "2019-09-02 07:04:00            4     dairy     Monday_4  Monday  07:04:00   \n",
       "2019-09-02 07:04:00            5    spices     Monday_5  Monday  07:04:00   \n",
       "...                          ...       ...          ...     ...       ...   \n",
       "2019-09-06 21:50:00         1500     dairy  Friday_1500  Friday  21:50:00   \n",
       "2019-09-06 21:50:00         1507  checkout  Friday_1507  Friday  21:50:00   \n",
       "2019-09-06 21:50:00         1508  checkout  Friday_1508  Friday  21:50:00   \n",
       "2019-09-06 21:50:00         1509    drinks  Friday_1509  Friday  21:50:00   \n",
       "2019-09-06 21:50:00         1510    spices  Friday_1510  Friday  21:50:00   \n",
       "\n",
       "                     minute  \n",
       "timestamp                    \n",
       "2019-09-02 07:03:00       3  \n",
       "2019-09-02 07:03:00       3  \n",
       "2019-09-02 07:04:00       4  \n",
       "2019-09-02 07:04:00       4  \n",
       "2019-09-02 07:04:00       4  \n",
       "...                     ...  \n",
       "2019-09-06 21:50:00      50  \n",
       "2019-09-06 21:50:00      50  \n",
       "2019-09-06 21:50:00      50  \n",
       "2019-09-06 21:50:00      50  \n",
       "2019-09-06 21:50:00      50  \n",
       "\n",
       "[24877 rows x 6 columns]"
      ]
     },
     "execution_count": 7,
     "metadata": {},
     "output_type": "execute_result"
    }
   ],
   "source": [
    "df['day'] = df.index.day_name()\n",
    "df[\"time\"] = df.index.time\n",
    "df['minute'] = df.index.minute\n",
    "df"
   ]
  },
  {
   "cell_type": "code",
   "execution_count": 8,
   "id": "4b1fceb4",
   "metadata": {},
   "outputs": [
    {
     "data": {
      "text/plain": [
       "location\n",
       "checkout    7417\n",
       "dairy       4679\n",
       "drinks      3905\n",
       "fruit       5122\n",
       "spices      3754\n",
       "Name: ID, dtype: int64"
      ]
     },
     "execution_count": 8,
     "metadata": {},
     "output_type": "execute_result"
    }
   ],
   "source": [
    "total_num_in_each_section = df.groupby('location')['ID'].count()\n",
    "total_num_in_each_section"
   ]
  },
  {
   "cell_type": "code",
   "execution_count": 9,
   "id": "cca2f926",
   "metadata": {},
   "outputs": [
    {
     "data": {
      "text/plain": [
       "location  day      \n",
       "checkout  Friday       1502\n",
       "          Monday       1437\n",
       "          Thursday     1532\n",
       "          Tuesday      1420\n",
       "          Wednesday    1526\n",
       "dairy     Friday        932\n",
       "          Monday        895\n",
       "          Thursday      965\n",
       "          Tuesday       911\n",
       "          Wednesday     976\n",
       "drinks    Friday        844\n",
       "          Monday        797\n",
       "          Thursday      776\n",
       "          Tuesday       713\n",
       "          Wednesday     775\n",
       "fruit     Friday       1057\n",
       "          Monday       1005\n",
       "          Thursday     1041\n",
       "          Tuesday       976\n",
       "          Wednesday    1043\n",
       "spices    Friday        790\n",
       "          Monday        750\n",
       "          Thursday      790\n",
       "          Tuesday       694\n",
       "          Wednesday     730\n",
       "Name: ID, dtype: int64"
      ]
     },
     "execution_count": 9,
     "metadata": {},
     "output_type": "execute_result"
    }
   ],
   "source": [
    "total_num_in_each_section_over_time = df.groupby(['location', 'day'])['ID'].count()\n",
    "total_num_in_each_section_over_time"
   ]
  },
  {
   "cell_type": "code",
   "execution_count": 10,
   "id": "b8d003f7",
   "metadata": {},
   "outputs": [
    {
     "data": {
      "text/html": [
       "<div>\n",
       "<style scoped>\n",
       "    .dataframe tbody tr th:only-of-type {\n",
       "        vertical-align: middle;\n",
       "    }\n",
       "\n",
       "    .dataframe tbody tr th {\n",
       "        vertical-align: top;\n",
       "    }\n",
       "\n",
       "    .dataframe thead th {\n",
       "        text-align: right;\n",
       "    }\n",
       "</style>\n",
       "<table border=\"1\" class=\"dataframe\">\n",
       "  <thead>\n",
       "    <tr style=\"text-align: right;\">\n",
       "      <th></th>\n",
       "      <th>customer_no</th>\n",
       "      <th>location</th>\n",
       "      <th>ID</th>\n",
       "      <th>day</th>\n",
       "      <th>time</th>\n",
       "      <th>minute</th>\n",
       "    </tr>\n",
       "    <tr>\n",
       "      <th>timestamp</th>\n",
       "      <th></th>\n",
       "      <th></th>\n",
       "      <th></th>\n",
       "      <th></th>\n",
       "      <th></th>\n",
       "      <th></th>\n",
       "    </tr>\n",
       "  </thead>\n",
       "  <tbody>\n",
       "    <tr>\n",
       "      <th>2019-09-02 07:05:00</th>\n",
       "      <td>1</td>\n",
       "      <td>checkout</td>\n",
       "      <td>Monday_1</td>\n",
       "      <td>Monday</td>\n",
       "      <td>07:05:00</td>\n",
       "      <td>5</td>\n",
       "    </tr>\n",
       "    <tr>\n",
       "      <th>2019-09-02 07:05:00</th>\n",
       "      <td>5</td>\n",
       "      <td>checkout</td>\n",
       "      <td>Monday_5</td>\n",
       "      <td>Monday</td>\n",
       "      <td>07:05:00</td>\n",
       "      <td>5</td>\n",
       "    </tr>\n",
       "    <tr>\n",
       "      <th>2019-09-02 07:06:00</th>\n",
       "      <td>2</td>\n",
       "      <td>checkout</td>\n",
       "      <td>Monday_2</td>\n",
       "      <td>Monday</td>\n",
       "      <td>07:06:00</td>\n",
       "      <td>6</td>\n",
       "    </tr>\n",
       "    <tr>\n",
       "      <th>2019-09-02 07:06:00</th>\n",
       "      <td>3</td>\n",
       "      <td>checkout</td>\n",
       "      <td>Monday_3</td>\n",
       "      <td>Monday</td>\n",
       "      <td>07:06:00</td>\n",
       "      <td>6</td>\n",
       "    </tr>\n",
       "    <tr>\n",
       "      <th>2019-09-02 07:07:00</th>\n",
       "      <td>8</td>\n",
       "      <td>checkout</td>\n",
       "      <td>Monday_8</td>\n",
       "      <td>Monday</td>\n",
       "      <td>07:07:00</td>\n",
       "      <td>7</td>\n",
       "    </tr>\n",
       "    <tr>\n",
       "      <th>...</th>\n",
       "      <td>...</td>\n",
       "      <td>...</td>\n",
       "      <td>...</td>\n",
       "      <td>...</td>\n",
       "      <td>...</td>\n",
       "      <td>...</td>\n",
       "    </tr>\n",
       "    <tr>\n",
       "      <th>2019-09-06 21:47:00</th>\n",
       "      <td>1502</td>\n",
       "      <td>checkout</td>\n",
       "      <td>Friday_1502</td>\n",
       "      <td>Friday</td>\n",
       "      <td>21:47:00</td>\n",
       "      <td>47</td>\n",
       "    </tr>\n",
       "    <tr>\n",
       "      <th>2019-09-06 21:48:00</th>\n",
       "      <td>1501</td>\n",
       "      <td>checkout</td>\n",
       "      <td>Friday_1501</td>\n",
       "      <td>Friday</td>\n",
       "      <td>21:48:00</td>\n",
       "      <td>48</td>\n",
       "    </tr>\n",
       "    <tr>\n",
       "      <th>2019-09-06 21:48:00</th>\n",
       "      <td>1504</td>\n",
       "      <td>checkout</td>\n",
       "      <td>Friday_1504</td>\n",
       "      <td>Friday</td>\n",
       "      <td>21:48:00</td>\n",
       "      <td>48</td>\n",
       "    </tr>\n",
       "    <tr>\n",
       "      <th>2019-09-06 21:50:00</th>\n",
       "      <td>1507</td>\n",
       "      <td>checkout</td>\n",
       "      <td>Friday_1507</td>\n",
       "      <td>Friday</td>\n",
       "      <td>21:50:00</td>\n",
       "      <td>50</td>\n",
       "    </tr>\n",
       "    <tr>\n",
       "      <th>2019-09-06 21:50:00</th>\n",
       "      <td>1508</td>\n",
       "      <td>checkout</td>\n",
       "      <td>Friday_1508</td>\n",
       "      <td>Friday</td>\n",
       "      <td>21:50:00</td>\n",
       "      <td>50</td>\n",
       "    </tr>\n",
       "  </tbody>\n",
       "</table>\n",
       "<p>7417 rows × 6 columns</p>\n",
       "</div>"
      ],
      "text/plain": [
       "                     customer_no  location           ID     day      time  \\\n",
       "timestamp                                                                   \n",
       "2019-09-02 07:05:00            1  checkout     Monday_1  Monday  07:05:00   \n",
       "2019-09-02 07:05:00            5  checkout     Monday_5  Monday  07:05:00   \n",
       "2019-09-02 07:06:00            2  checkout     Monday_2  Monday  07:06:00   \n",
       "2019-09-02 07:06:00            3  checkout     Monday_3  Monday  07:06:00   \n",
       "2019-09-02 07:07:00            8  checkout     Monday_8  Monday  07:07:00   \n",
       "...                          ...       ...          ...     ...       ...   \n",
       "2019-09-06 21:47:00         1502  checkout  Friday_1502  Friday  21:47:00   \n",
       "2019-09-06 21:48:00         1501  checkout  Friday_1501  Friday  21:48:00   \n",
       "2019-09-06 21:48:00         1504  checkout  Friday_1504  Friday  21:48:00   \n",
       "2019-09-06 21:50:00         1507  checkout  Friday_1507  Friday  21:50:00   \n",
       "2019-09-06 21:50:00         1508  checkout  Friday_1508  Friday  21:50:00   \n",
       "\n",
       "                     minute  \n",
       "timestamp                    \n",
       "2019-09-02 07:05:00       5  \n",
       "2019-09-02 07:05:00       5  \n",
       "2019-09-02 07:06:00       6  \n",
       "2019-09-02 07:06:00       6  \n",
       "2019-09-02 07:07:00       7  \n",
       "...                     ...  \n",
       "2019-09-06 21:47:00      47  \n",
       "2019-09-06 21:48:00      48  \n",
       "2019-09-06 21:48:00      48  \n",
       "2019-09-06 21:50:00      50  \n",
       "2019-09-06 21:50:00      50  \n",
       "\n",
       "[7417 rows x 6 columns]"
      ]
     },
     "execution_count": 10,
     "metadata": {},
     "output_type": "execute_result"
    }
   ],
   "source": [
    "checkout = df[df[\"location\"]==\"checkout\"]\n",
    "checkout"
   ]
  },
  {
   "cell_type": "code",
   "execution_count": 11,
   "id": "cb86f234",
   "metadata": {
    "scrolled": true
   },
   "outputs": [
    {
     "data": {
      "text/plain": [
       "day\n",
       "Friday       1502\n",
       "Monday       1437\n",
       "Thursday     1532\n",
       "Tuesday      1420\n",
       "Wednesday    1526\n",
       "Name: ID, dtype: int64"
      ]
     },
     "execution_count": 11,
     "metadata": {},
     "output_type": "execute_result"
    }
   ],
   "source": [
    "num_at_checkout_over_time = checkout.groupby('day')['ID'].count()\n",
    "num_at_checkout_over_time"
   ]
  },
  {
   "cell_type": "code",
   "execution_count": 12,
   "id": "2e0f8741",
   "metadata": {},
   "outputs": [
    {
     "data": {
      "text/html": [
       "<div>\n",
       "<style scoped>\n",
       "    .dataframe tbody tr th:only-of-type {\n",
       "        vertical-align: middle;\n",
       "    }\n",
       "\n",
       "    .dataframe tbody tr th {\n",
       "        vertical-align: top;\n",
       "    }\n",
       "\n",
       "    .dataframe thead th {\n",
       "        text-align: right;\n",
       "    }\n",
       "</style>\n",
       "<table border=\"1\" class=\"dataframe\">\n",
       "  <thead>\n",
       "    <tr style=\"text-align: right;\">\n",
       "      <th></th>\n",
       "      <th>ID</th>\n",
       "      <th>day</th>\n",
       "      <th>minute</th>\n",
       "    </tr>\n",
       "  </thead>\n",
       "  <tbody>\n",
       "    <tr>\n",
       "      <th>0</th>\n",
       "      <td>Friday_1</td>\n",
       "      <td>Friday</td>\n",
       "      <td>9</td>\n",
       "    </tr>\n",
       "    <tr>\n",
       "      <th>1</th>\n",
       "      <td>Friday_10</td>\n",
       "      <td>Friday</td>\n",
       "      <td>17</td>\n",
       "    </tr>\n",
       "    <tr>\n",
       "      <th>2</th>\n",
       "      <td>Friday_100</td>\n",
       "      <td>Friday</td>\n",
       "      <td>7</td>\n",
       "    </tr>\n",
       "    <tr>\n",
       "      <th>3</th>\n",
       "      <td>Friday_1000</td>\n",
       "      <td>Friday</td>\n",
       "      <td>39</td>\n",
       "    </tr>\n",
       "    <tr>\n",
       "      <th>4</th>\n",
       "      <td>Friday_1001</td>\n",
       "      <td>Friday</td>\n",
       "      <td>143</td>\n",
       "    </tr>\n",
       "    <tr>\n",
       "      <th>...</th>\n",
       "      <td>...</td>\n",
       "      <td>...</td>\n",
       "      <td>...</td>\n",
       "    </tr>\n",
       "    <tr>\n",
       "      <th>7440</th>\n",
       "      <td>Wednesday_995</td>\n",
       "      <td>Wednesday</td>\n",
       "      <td>131</td>\n",
       "    </tr>\n",
       "    <tr>\n",
       "      <th>7441</th>\n",
       "      <td>Wednesday_996</td>\n",
       "      <td>Wednesday</td>\n",
       "      <td>108</td>\n",
       "    </tr>\n",
       "    <tr>\n",
       "      <th>7442</th>\n",
       "      <td>Wednesday_997</td>\n",
       "      <td>Wednesday</td>\n",
       "      <td>192</td>\n",
       "    </tr>\n",
       "    <tr>\n",
       "      <th>7443</th>\n",
       "      <td>Wednesday_998</td>\n",
       "      <td>Wednesday</td>\n",
       "      <td>169</td>\n",
       "    </tr>\n",
       "    <tr>\n",
       "      <th>7444</th>\n",
       "      <td>Wednesday_999</td>\n",
       "      <td>Wednesday</td>\n",
       "      <td>107</td>\n",
       "    </tr>\n",
       "  </tbody>\n",
       "</table>\n",
       "<p>7445 rows × 3 columns</p>\n",
       "</div>"
      ],
      "text/plain": [
       "                 ID        day  minute\n",
       "0          Friday_1     Friday       9\n",
       "1         Friday_10     Friday      17\n",
       "2        Friday_100     Friday       7\n",
       "3       Friday_1000     Friday      39\n",
       "4       Friday_1001     Friday     143\n",
       "...             ...        ...     ...\n",
       "7440  Wednesday_995  Wednesday     131\n",
       "7441  Wednesday_996  Wednesday     108\n",
       "7442  Wednesday_997  Wednesday     192\n",
       "7443  Wednesday_998  Wednesday     169\n",
       "7444  Wednesday_999  Wednesday     107\n",
       "\n",
       "[7445 rows x 3 columns]"
      ]
     },
     "execution_count": 12,
     "metadata": {},
     "output_type": "execute_result"
    }
   ],
   "source": [
    "time_each_customer_spent_in_market = df.groupby(['ID','day']).agg({'minute': sum}).reset_index()\n",
    "time_each_customer_spent_in_market"
   ]
  },
  {
   "cell_type": "code",
   "execution_count": 13,
   "id": "58b7763e",
   "metadata": {
    "scrolled": true
   },
   "outputs": [
    {
     "data": {
      "text/plain": [
       "day\n",
       "Friday       5125\n",
       "Monday       4884\n",
       "Thursday     5104\n",
       "Tuesday      4714\n",
       "Wednesday    5050\n",
       "Name: ID, dtype: int64"
      ]
     },
     "execution_count": 13,
     "metadata": {},
     "output_type": "execute_result"
    }
   ],
   "source": [
    "total_num_customers_in_supermarket_over_time = df.groupby('day')['ID'].count()\n",
    "total_num_customers_in_supermarket_over_time"
   ]
  },
  {
   "cell_type": "code",
   "execution_count": 14,
   "id": "c903ff15",
   "metadata": {},
   "outputs": [
    {
     "data": {
      "text/plain": [
       "ID\n",
       "Friday_1        2019-09-06 07:00:00\n",
       "Friday_10       2019-09-06 07:06:00\n",
       "Friday_100      2019-09-06 08:03:00\n",
       "Friday_1000     2019-09-06 17:19:00\n",
       "Friday_1001     2019-09-06 17:19:00\n",
       "                        ...        \n",
       "Wednesday_995   2019-09-04 16:52:00\n",
       "Wednesday_996   2019-09-04 16:52:00\n",
       "Wednesday_997   2019-09-04 16:52:00\n",
       "Wednesday_998   2019-09-04 16:53:00\n",
       "Wednesday_999   2019-09-04 16:53:00\n",
       "Name: timestamp, Length: 7445, dtype: datetime64[ns]"
      ]
     },
     "execution_count": 14,
     "metadata": {},
     "output_type": "execute_result"
    }
   ],
   "source": [
    "enter_datetimes = df.reset_index().groupby(\"ID\")[\"timestamp\"].min()\n",
    "enter_datetimes"
   ]
  },
  {
   "cell_type": "code",
   "execution_count": 15,
   "id": "d7529556",
   "metadata": {},
   "outputs": [],
   "source": [
    "for customer in df[\"ID\"].unique():\n",
    "    df.loc[(df.ID == customer) & (df.index == enter_datetimes[customer]), \"section_order\",] = \"first\"\n",
    "    df.loc[df[\"location\"] == \"checkout\", \"section_order\"] = \"checkout\"\n",
    "df[\"section_order\"].fillna(\"following\", inplace=True)"
   ]
  },
  {
   "cell_type": "code",
   "execution_count": 16,
   "id": "ec0fe2d4",
   "metadata": {
    "scrolled": true
   },
   "outputs": [
    {
     "data": {
      "text/html": [
       "<div>\n",
       "<style scoped>\n",
       "    .dataframe tbody tr th:only-of-type {\n",
       "        vertical-align: middle;\n",
       "    }\n",
       "\n",
       "    .dataframe tbody tr th {\n",
       "        vertical-align: top;\n",
       "    }\n",
       "\n",
       "    .dataframe thead th {\n",
       "        text-align: right;\n",
       "    }\n",
       "</style>\n",
       "<table border=\"1\" class=\"dataframe\">\n",
       "  <thead>\n",
       "    <tr style=\"text-align: right;\">\n",
       "      <th></th>\n",
       "      <th>customer_no</th>\n",
       "      <th>location</th>\n",
       "      <th>ID</th>\n",
       "      <th>day</th>\n",
       "      <th>time</th>\n",
       "      <th>minute</th>\n",
       "      <th>section_order</th>\n",
       "    </tr>\n",
       "    <tr>\n",
       "      <th>timestamp</th>\n",
       "      <th></th>\n",
       "      <th></th>\n",
       "      <th></th>\n",
       "      <th></th>\n",
       "      <th></th>\n",
       "      <th></th>\n",
       "      <th></th>\n",
       "    </tr>\n",
       "  </thead>\n",
       "  <tbody>\n",
       "    <tr>\n",
       "      <th>2019-09-02 07:56:00</th>\n",
       "      <td>100</td>\n",
       "      <td>drinks</td>\n",
       "      <td>Monday_100</td>\n",
       "      <td>Monday</td>\n",
       "      <td>07:56:00</td>\n",
       "      <td>56</td>\n",
       "      <td>first</td>\n",
       "    </tr>\n",
       "    <tr>\n",
       "      <th>2019-09-02 08:03:00</th>\n",
       "      <td>100</td>\n",
       "      <td>checkout</td>\n",
       "      <td>Monday_100</td>\n",
       "      <td>Monday</td>\n",
       "      <td>08:03:00</td>\n",
       "      <td>3</td>\n",
       "      <td>checkout</td>\n",
       "    </tr>\n",
       "  </tbody>\n",
       "</table>\n",
       "</div>"
      ],
      "text/plain": [
       "                     customer_no  location          ID     day      time  \\\n",
       "timestamp                                                                  \n",
       "2019-09-02 07:56:00          100    drinks  Monday_100  Monday  07:56:00   \n",
       "2019-09-02 08:03:00          100  checkout  Monday_100  Monday  08:03:00   \n",
       "\n",
       "                     minute section_order  \n",
       "timestamp                                  \n",
       "2019-09-02 07:56:00      56         first  \n",
       "2019-09-02 08:03:00       3      checkout  "
      ]
     },
     "execution_count": 16,
     "metadata": {},
     "output_type": "execute_result"
    }
   ],
   "source": [
    "df[df['ID'] == 'Monday_100']"
   ]
  },
  {
   "cell_type": "code",
   "execution_count": 17,
   "id": "6977a2ef",
   "metadata": {
    "scrolled": false
   },
   "outputs": [
    {
     "data": {
      "text/plain": [
       "following    10015\n",
       "first         7445\n",
       "checkout      7417\n",
       "Name: section_order, dtype: int64"
      ]
     },
     "execution_count": 17,
     "metadata": {},
     "output_type": "execute_result"
    }
   ],
   "source": [
    "df[\"section_order\"].value_counts()"
   ]
  },
  {
   "cell_type": "code",
   "execution_count": 18,
   "id": "b74446cb",
   "metadata": {},
   "outputs": [],
   "source": [
    "last_values = df.groupby('ID')[\"location\"].last()\n",
    "last_values=last_values.reset_index()\n",
    "df_ID_no=last_values[last_values[\"location\"]!=\"checkout\"]\n",
    "list_ID_not=df_ID_no[\"ID\"].tolist()\n",
    "df=df[~df['ID'].isin(list_ID_not)]"
   ]
  },
  {
   "cell_type": "code",
   "execution_count": 19,
   "id": "f1e34525",
   "metadata": {},
   "outputs": [
    {
     "data": {
      "text/plain": [
       "(24798, 7)"
      ]
     },
     "execution_count": 19,
     "metadata": {},
     "output_type": "execute_result"
    }
   ],
   "source": [
    "df.shape"
   ]
  },
  {
   "cell_type": "code",
   "execution_count": 20,
   "id": "a6aa75c9",
   "metadata": {
    "scrolled": true
   },
   "outputs": [
    {
     "data": {
      "text/html": [
       "<div>\n",
       "<style scoped>\n",
       "    .dataframe tbody tr th:only-of-type {\n",
       "        vertical-align: middle;\n",
       "    }\n",
       "\n",
       "    .dataframe tbody tr th {\n",
       "        vertical-align: top;\n",
       "    }\n",
       "\n",
       "    .dataframe thead th {\n",
       "        text-align: right;\n",
       "    }\n",
       "</style>\n",
       "<table border=\"1\" class=\"dataframe\">\n",
       "  <thead>\n",
       "    <tr style=\"text-align: right;\">\n",
       "      <th></th>\n",
       "      <th>customer_no</th>\n",
       "      <th>location</th>\n",
       "      <th>ID</th>\n",
       "      <th>day</th>\n",
       "      <th>time</th>\n",
       "      <th>minute</th>\n",
       "      <th>section_order</th>\n",
       "    </tr>\n",
       "    <tr>\n",
       "      <th>timestamp</th>\n",
       "      <th></th>\n",
       "      <th></th>\n",
       "      <th></th>\n",
       "      <th></th>\n",
       "      <th></th>\n",
       "      <th></th>\n",
       "      <th></th>\n",
       "    </tr>\n",
       "  </thead>\n",
       "  <tbody>\n",
       "    <tr>\n",
       "      <th>2019-09-06 07:00:00</th>\n",
       "      <td>1</td>\n",
       "      <td>dairy</td>\n",
       "      <td>Friday_1</td>\n",
       "      <td>Friday</td>\n",
       "      <td>07:00:00</td>\n",
       "      <td>0</td>\n",
       "      <td>first</td>\n",
       "    </tr>\n",
       "    <tr>\n",
       "      <th>2019-09-06 07:04:00</th>\n",
       "      <td>1</td>\n",
       "      <td>spices</td>\n",
       "      <td>Friday_1</td>\n",
       "      <td>Friday</td>\n",
       "      <td>07:04:00</td>\n",
       "      <td>4</td>\n",
       "      <td>following</td>\n",
       "    </tr>\n",
       "    <tr>\n",
       "      <th>2019-09-06 07:05:00</th>\n",
       "      <td>1</td>\n",
       "      <td>checkout</td>\n",
       "      <td>Friday_1</td>\n",
       "      <td>Friday</td>\n",
       "      <td>07:05:00</td>\n",
       "      <td>5</td>\n",
       "      <td>checkout</td>\n",
       "    </tr>\n",
       "    <tr>\n",
       "      <th>2019-09-06 07:06:00</th>\n",
       "      <td>10</td>\n",
       "      <td>fruit</td>\n",
       "      <td>Friday_10</td>\n",
       "      <td>Friday</td>\n",
       "      <td>07:06:00</td>\n",
       "      <td>6</td>\n",
       "      <td>first</td>\n",
       "    </tr>\n",
       "    <tr>\n",
       "      <th>2019-09-06 07:11:00</th>\n",
       "      <td>10</td>\n",
       "      <td>checkout</td>\n",
       "      <td>Friday_10</td>\n",
       "      <td>Friday</td>\n",
       "      <td>07:11:00</td>\n",
       "      <td>11</td>\n",
       "      <td>checkout</td>\n",
       "    </tr>\n",
       "  </tbody>\n",
       "</table>\n",
       "</div>"
      ],
      "text/plain": [
       "                     customer_no  location         ID     day      time  \\\n",
       "timestamp                                                                 \n",
       "2019-09-06 07:00:00            1     dairy   Friday_1  Friday  07:00:00   \n",
       "2019-09-06 07:04:00            1    spices   Friday_1  Friday  07:04:00   \n",
       "2019-09-06 07:05:00            1  checkout   Friday_1  Friday  07:05:00   \n",
       "2019-09-06 07:06:00           10     fruit  Friday_10  Friday  07:06:00   \n",
       "2019-09-06 07:11:00           10  checkout  Friday_10  Friday  07:11:00   \n",
       "\n",
       "                     minute section_order  \n",
       "timestamp                                  \n",
       "2019-09-06 07:00:00       0         first  \n",
       "2019-09-06 07:04:00       4     following  \n",
       "2019-09-06 07:05:00       5      checkout  \n",
       "2019-09-06 07:06:00       6         first  \n",
       "2019-09-06 07:11:00      11      checkout  "
      ]
     },
     "execution_count": 20,
     "metadata": {},
     "output_type": "execute_result"
    }
   ],
   "source": [
    "df_sorted = df.sort_values([\"ID\", \"timestamp\"])\n",
    "df_sorted.head()"
   ]
  },
  {
   "cell_type": "code",
   "execution_count": 21,
   "id": "e3473806",
   "metadata": {},
   "outputs": [],
   "source": [
    "df_sorted[\"next_location\"] = df_sorted[\"location\"].shift(-1)"
   ]
  },
  {
   "cell_type": "code",
   "execution_count": 22,
   "id": "db085edc",
   "metadata": {},
   "outputs": [
    {
     "data": {
      "text/html": [
       "<div>\n",
       "<style scoped>\n",
       "    .dataframe tbody tr th:only-of-type {\n",
       "        vertical-align: middle;\n",
       "    }\n",
       "\n",
       "    .dataframe tbody tr th {\n",
       "        vertical-align: top;\n",
       "    }\n",
       "\n",
       "    .dataframe thead th {\n",
       "        text-align: right;\n",
       "    }\n",
       "</style>\n",
       "<table border=\"1\" class=\"dataframe\">\n",
       "  <thead>\n",
       "    <tr style=\"text-align: right;\">\n",
       "      <th></th>\n",
       "      <th>customer_no</th>\n",
       "      <th>location</th>\n",
       "      <th>ID</th>\n",
       "      <th>day</th>\n",
       "      <th>time</th>\n",
       "      <th>minute</th>\n",
       "      <th>section_order</th>\n",
       "      <th>next_location</th>\n",
       "    </tr>\n",
       "    <tr>\n",
       "      <th>timestamp</th>\n",
       "      <th></th>\n",
       "      <th></th>\n",
       "      <th></th>\n",
       "      <th></th>\n",
       "      <th></th>\n",
       "      <th></th>\n",
       "      <th></th>\n",
       "      <th></th>\n",
       "    </tr>\n",
       "  </thead>\n",
       "  <tbody>\n",
       "    <tr>\n",
       "      <th>2019-09-06 07:00:00</th>\n",
       "      <td>1</td>\n",
       "      <td>dairy</td>\n",
       "      <td>Friday_1</td>\n",
       "      <td>Friday</td>\n",
       "      <td>07:00:00</td>\n",
       "      <td>0</td>\n",
       "      <td>first</td>\n",
       "      <td>spices</td>\n",
       "    </tr>\n",
       "    <tr>\n",
       "      <th>2019-09-06 07:04:00</th>\n",
       "      <td>1</td>\n",
       "      <td>spices</td>\n",
       "      <td>Friday_1</td>\n",
       "      <td>Friday</td>\n",
       "      <td>07:04:00</td>\n",
       "      <td>4</td>\n",
       "      <td>following</td>\n",
       "      <td>checkout</td>\n",
       "    </tr>\n",
       "    <tr>\n",
       "      <th>2019-09-06 07:05:00</th>\n",
       "      <td>1</td>\n",
       "      <td>checkout</td>\n",
       "      <td>Friday_1</td>\n",
       "      <td>Friday</td>\n",
       "      <td>07:05:00</td>\n",
       "      <td>5</td>\n",
       "      <td>checkout</td>\n",
       "      <td>fruit</td>\n",
       "    </tr>\n",
       "    <tr>\n",
       "      <th>2019-09-06 07:06:00</th>\n",
       "      <td>10</td>\n",
       "      <td>fruit</td>\n",
       "      <td>Friday_10</td>\n",
       "      <td>Friday</td>\n",
       "      <td>07:06:00</td>\n",
       "      <td>6</td>\n",
       "      <td>first</td>\n",
       "      <td>checkout</td>\n",
       "    </tr>\n",
       "    <tr>\n",
       "      <th>2019-09-06 07:11:00</th>\n",
       "      <td>10</td>\n",
       "      <td>checkout</td>\n",
       "      <td>Friday_10</td>\n",
       "      <td>Friday</td>\n",
       "      <td>07:11:00</td>\n",
       "      <td>11</td>\n",
       "      <td>checkout</td>\n",
       "      <td>fruit</td>\n",
       "    </tr>\n",
       "  </tbody>\n",
       "</table>\n",
       "</div>"
      ],
      "text/plain": [
       "                     customer_no  location         ID     day      time  \\\n",
       "timestamp                                                                 \n",
       "2019-09-06 07:00:00            1     dairy   Friday_1  Friday  07:00:00   \n",
       "2019-09-06 07:04:00            1    spices   Friday_1  Friday  07:04:00   \n",
       "2019-09-06 07:05:00            1  checkout   Friday_1  Friday  07:05:00   \n",
       "2019-09-06 07:06:00           10     fruit  Friday_10  Friday  07:06:00   \n",
       "2019-09-06 07:11:00           10  checkout  Friday_10  Friday  07:11:00   \n",
       "\n",
       "                     minute section_order next_location  \n",
       "timestamp                                                \n",
       "2019-09-06 07:00:00       0         first        spices  \n",
       "2019-09-06 07:04:00       4     following      checkout  \n",
       "2019-09-06 07:05:00       5      checkout         fruit  \n",
       "2019-09-06 07:06:00       6         first      checkout  \n",
       "2019-09-06 07:11:00      11      checkout         fruit  "
      ]
     },
     "execution_count": 22,
     "metadata": {},
     "output_type": "execute_result"
    }
   ],
   "source": [
    "df_sorted.head()"
   ]
  },
  {
   "cell_type": "code",
   "execution_count": 23,
   "id": "9d62ffe7",
   "metadata": {},
   "outputs": [
    {
     "data": {
      "text/html": [
       "<div>\n",
       "<style scoped>\n",
       "    .dataframe tbody tr th:only-of-type {\n",
       "        vertical-align: middle;\n",
       "    }\n",
       "\n",
       "    .dataframe tbody tr th {\n",
       "        vertical-align: top;\n",
       "    }\n",
       "\n",
       "    .dataframe thead th {\n",
       "        text-align: right;\n",
       "    }\n",
       "</style>\n",
       "<table border=\"1\" class=\"dataframe\">\n",
       "  <thead>\n",
       "    <tr style=\"text-align: right;\">\n",
       "      <th>next_location</th>\n",
       "      <th>checkout</th>\n",
       "      <th>dairy</th>\n",
       "      <th>drinks</th>\n",
       "      <th>fruit</th>\n",
       "      <th>spices</th>\n",
       "    </tr>\n",
       "    <tr>\n",
       "      <th>location</th>\n",
       "      <th></th>\n",
       "      <th></th>\n",
       "      <th></th>\n",
       "      <th></th>\n",
       "      <th></th>\n",
       "    </tr>\n",
       "  </thead>\n",
       "  <tbody>\n",
       "    <tr>\n",
       "      <th>checkout</th>\n",
       "      <td>0.000000</td>\n",
       "      <td>0.286543</td>\n",
       "      <td>0.153587</td>\n",
       "      <td>0.378101</td>\n",
       "      <td>0.181769</td>\n",
       "    </tr>\n",
       "    <tr>\n",
       "      <th>dairy</th>\n",
       "      <td>0.392389</td>\n",
       "      <td>0.000000</td>\n",
       "      <td>0.222318</td>\n",
       "      <td>0.189852</td>\n",
       "      <td>0.195442</td>\n",
       "    </tr>\n",
       "    <tr>\n",
       "      <th>drinks</th>\n",
       "      <td>0.538956</td>\n",
       "      <td>0.027256</td>\n",
       "      <td>0.000000</td>\n",
       "      <td>0.217794</td>\n",
       "      <td>0.215994</td>\n",
       "    </tr>\n",
       "    <tr>\n",
       "      <th>fruit</th>\n",
       "      <td>0.500784</td>\n",
       "      <td>0.236966</td>\n",
       "      <td>0.136417</td>\n",
       "      <td>0.000000</td>\n",
       "      <td>0.125833</td>\n",
       "    </tr>\n",
       "    <tr>\n",
       "      <th>spices</th>\n",
       "      <td>0.251672</td>\n",
       "      <td>0.323616</td>\n",
       "      <td>0.272800</td>\n",
       "      <td>0.151912</td>\n",
       "      <td>0.000000</td>\n",
       "    </tr>\n",
       "  </tbody>\n",
       "</table>\n",
       "</div>"
      ],
      "text/plain": [
       "next_location  checkout     dairy    drinks     fruit    spices\n",
       "location                                                       \n",
       "checkout       0.000000  0.286543  0.153587  0.378101  0.181769\n",
       "dairy          0.392389  0.000000  0.222318  0.189852  0.195442\n",
       "drinks         0.538956  0.027256  0.000000  0.217794  0.215994\n",
       "fruit          0.500784  0.236966  0.136417  0.000000  0.125833\n",
       "spices         0.251672  0.323616  0.272800  0.151912  0.000000"
      ]
     },
     "execution_count": 23,
     "metadata": {},
     "output_type": "execute_result"
    }
   ],
   "source": [
    "p = pd.crosstab(\n",
    "    df_sorted[\"location\"], df_sorted[\"next_location\"], normalize='index')\n",
    "p"
   ]
  },
  {
   "cell_type": "code",
   "execution_count": 24,
   "id": "5bf35e19",
   "metadata": {
    "scrolled": true
   },
   "outputs": [
    {
     "data": {
      "text/html": [
       "<div>\n",
       "<style scoped>\n",
       "    .dataframe tbody tr th:only-of-type {\n",
       "        vertical-align: middle;\n",
       "    }\n",
       "\n",
       "    .dataframe tbody tr th {\n",
       "        vertical-align: top;\n",
       "    }\n",
       "\n",
       "    .dataframe thead th {\n",
       "        text-align: right;\n",
       "    }\n",
       "</style>\n",
       "<table border=\"1\" class=\"dataframe\">\n",
       "  <thead>\n",
       "    <tr style=\"text-align: right;\">\n",
       "      <th>next_location</th>\n",
       "      <th>checkout</th>\n",
       "      <th>dairy</th>\n",
       "      <th>drinks</th>\n",
       "      <th>fruit</th>\n",
       "      <th>spices</th>\n",
       "    </tr>\n",
       "    <tr>\n",
       "      <th>location</th>\n",
       "      <th></th>\n",
       "      <th></th>\n",
       "      <th></th>\n",
       "      <th></th>\n",
       "      <th></th>\n",
       "    </tr>\n",
       "  </thead>\n",
       "  <tbody>\n",
       "    <tr>\n",
       "      <th>checkout</th>\n",
       "      <td>1.000000</td>\n",
       "      <td>0.000000</td>\n",
       "      <td>0.000000</td>\n",
       "      <td>0.000000</td>\n",
       "      <td>0.000000</td>\n",
       "    </tr>\n",
       "    <tr>\n",
       "      <th>dairy</th>\n",
       "      <td>0.392389</td>\n",
       "      <td>0.000000</td>\n",
       "      <td>0.222318</td>\n",
       "      <td>0.189852</td>\n",
       "      <td>0.195442</td>\n",
       "    </tr>\n",
       "    <tr>\n",
       "      <th>drinks</th>\n",
       "      <td>0.538956</td>\n",
       "      <td>0.027256</td>\n",
       "      <td>0.000000</td>\n",
       "      <td>0.217794</td>\n",
       "      <td>0.215994</td>\n",
       "    </tr>\n",
       "    <tr>\n",
       "      <th>fruit</th>\n",
       "      <td>0.500784</td>\n",
       "      <td>0.236966</td>\n",
       "      <td>0.136417</td>\n",
       "      <td>0.000000</td>\n",
       "      <td>0.125833</td>\n",
       "    </tr>\n",
       "    <tr>\n",
       "      <th>spices</th>\n",
       "      <td>0.251672</td>\n",
       "      <td>0.323616</td>\n",
       "      <td>0.272800</td>\n",
       "      <td>0.151912</td>\n",
       "      <td>0.000000</td>\n",
       "    </tr>\n",
       "  </tbody>\n",
       "</table>\n",
       "</div>"
      ],
      "text/plain": [
       "next_location  checkout     dairy    drinks     fruit    spices\n",
       "location                                                       \n",
       "checkout       1.000000  0.000000  0.000000  0.000000  0.000000\n",
       "dairy          0.392389  0.000000  0.222318  0.189852  0.195442\n",
       "drinks         0.538956  0.027256  0.000000  0.217794  0.215994\n",
       "fruit          0.500784  0.236966  0.136417  0.000000  0.125833\n",
       "spices         0.251672  0.323616  0.272800  0.151912  0.000000"
      ]
     },
     "execution_count": 24,
     "metadata": {},
     "output_type": "execute_result"
    }
   ],
   "source": [
    "p.loc[\"checkout\"][0]=1\n",
    "p.loc[\"checkout\"][1:5]=0\n",
    "p"
   ]
  },
  {
   "cell_type": "code",
   "execution_count": 25,
   "id": "c8abce63",
   "metadata": {},
   "outputs": [
    {
     "data": {
      "text/plain": [
       "<AxesSubplot:xlabel='next_location', ylabel='location'>"
      ]
     },
     "execution_count": 25,
     "metadata": {},
     "output_type": "execute_result"
    },
    {
     "data": {
      "image/png": "[encoded data removed]",
      "text/plain": [
       "<Figure size 640x480 with 2 Axes>"
      ]
     },
     "metadata": {},
     "output_type": "display_data"
    }
   ],
   "source": [
    "sns.heatmap(p, annot=True)"
   ]
  },
  {
   "cell_type": "code",
   "execution_count": 26,
   "id": "89adb89a",
   "metadata": {},
   "outputs": [
    {
     "data": {
      "text/html": [
       "<div>\n",
       "<style scoped>\n",
       "    .dataframe tbody tr th:only-of-type {\n",
       "        vertical-align: middle;\n",
       "    }\n",
       "\n",
       "    .dataframe tbody tr th {\n",
       "        vertical-align: top;\n",
       "    }\n",
       "\n",
       "    .dataframe thead th {\n",
       "        text-align: right;\n",
       "    }\n",
       "</style>\n",
       "<table border=\"1\" class=\"dataframe\">\n",
       "  <thead>\n",
       "    <tr style=\"text-align: right;\">\n",
       "      <th>next_location</th>\n",
       "      <th>checkout</th>\n",
       "      <th>dairy</th>\n",
       "      <th>drinks</th>\n",
       "      <th>fruit</th>\n",
       "      <th>spices</th>\n",
       "    </tr>\n",
       "    <tr>\n",
       "      <th>location</th>\n",
       "      <th></th>\n",
       "      <th></th>\n",
       "      <th></th>\n",
       "      <th></th>\n",
       "      <th></th>\n",
       "    </tr>\n",
       "  </thead>\n",
       "  <tbody>\n",
       "    <tr>\n",
       "      <th>checkout</th>\n",
       "      <td>0</td>\n",
       "      <td>2125</td>\n",
       "      <td>1139</td>\n",
       "      <td>2804</td>\n",
       "      <td>1348</td>\n",
       "    </tr>\n",
       "    <tr>\n",
       "      <th>dairy</th>\n",
       "      <td>1825</td>\n",
       "      <td>0</td>\n",
       "      <td>1034</td>\n",
       "      <td>883</td>\n",
       "      <td>909</td>\n",
       "    </tr>\n",
       "    <tr>\n",
       "      <th>drinks</th>\n",
       "      <td>2096</td>\n",
       "      <td>106</td>\n",
       "      <td>0</td>\n",
       "      <td>847</td>\n",
       "      <td>840</td>\n",
       "    </tr>\n",
       "    <tr>\n",
       "      <th>fruit</th>\n",
       "      <td>2555</td>\n",
       "      <td>1209</td>\n",
       "      <td>696</td>\n",
       "      <td>0</td>\n",
       "      <td>642</td>\n",
       "    </tr>\n",
       "    <tr>\n",
       "      <th>spices</th>\n",
       "      <td>941</td>\n",
       "      <td>1210</td>\n",
       "      <td>1020</td>\n",
       "      <td>568</td>\n",
       "      <td>0</td>\n",
       "    </tr>\n",
       "  </tbody>\n",
       "</table>\n",
       "</div>"
      ],
      "text/plain": [
       "next_location  checkout  dairy  drinks  fruit  spices\n",
       "location                                             \n",
       "checkout              0   2125    1139   2804    1348\n",
       "dairy              1825      0    1034    883     909\n",
       "drinks             2096    106       0    847     840\n",
       "fruit              2555   1209     696      0     642\n",
       "spices              941   1210    1020    568       0"
      ]
     },
     "execution_count": 26,
     "metadata": {},
     "output_type": "execute_result"
    }
   ],
   "source": [
    "pd.crosstab(\n",
    "    df_sorted['location'], \n",
    "    df_sorted['next_location'])"
   ]
  },
  {
   "cell_type": "code",
   "execution_count": 27,
   "id": "df60d383",
   "metadata": {},
   "outputs": [
    {
     "data": {
      "text/plain": [
       "{'checkout': {'checkout': 1.0,\n",
       "  'dairy': 0.0,\n",
       "  'drinks': 0.0,\n",
       "  'fruit': 0.0,\n",
       "  'spices': 0.0},\n",
       " 'dairy': {'checkout': 0.3923887336056762,\n",
       "  'dairy': 0.0,\n",
       "  'drinks': 0.22231778112233927,\n",
       "  'fruit': 0.18985164480756828,\n",
       "  'spices': 0.19544184046441626},\n",
       " 'drinks': {'checkout': 0.5389560298277192,\n",
       "  'dairy': 0.027256364103882748,\n",
       "  'drinks': 0.0,\n",
       "  'fruit': 0.21779377732064797,\n",
       "  'spices': 0.21599382874775006},\n",
       " 'fruit': {'checkout': 0.5007840062720502,\n",
       "  'dairy': 0.2369658957271658,\n",
       "  'drinks': 0.1364170913367307,\n",
       "  'fruit': 0.0,\n",
       "  'spices': 0.1258330066640533},\n",
       " 'spices': {'checkout': 0.2516715699384862,\n",
       "  'dairy': 0.3236159400909334,\n",
       "  'drinks': 0.2728002139609521,\n",
       "  'fruit': 0.15191227600962826,\n",
       "  'spices': 0.0}}"
      ]
     },
     "execution_count": 27,
     "metadata": {},
     "output_type": "execute_result"
    }
   ],
   "source": [
    "probs = p.to_dict(orient='index')\n",
    "probs"
   ]
  },
  {
   "cell_type": "code",
   "execution_count": 28,
   "id": "0a6cc60c",
   "metadata": {},
   "outputs": [],
   "source": [
    "for key in probs.keys():\n",
    "    probs[key] = list(probs[key].values())"
   ]
  },
  {
   "cell_type": "code",
   "execution_count": 29,
   "id": "2ed088c1",
   "metadata": {},
   "outputs": [
    {
     "data": {
      "text/plain": [
       "{'checkout': [1.0, 0.0, 0.0, 0.0, 0.0],\n",
       " 'dairy': [0.3923887336056762,\n",
       "  0.0,\n",
       "  0.22231778112233927,\n",
       "  0.18985164480756828,\n",
       "  0.19544184046441626],\n",
       " 'drinks': [0.5389560298277192,\n",
       "  0.027256364103882748,\n",
       "  0.0,\n",
       "  0.21779377732064797,\n",
       "  0.21599382874775006],\n",
       " 'fruit': [0.5007840062720502,\n",
       "  0.2369658957271658,\n",
       "  0.1364170913367307,\n",
       "  0.0,\n",
       "  0.1258330066640533],\n",
       " 'spices': [0.2516715699384862,\n",
       "  0.3236159400909334,\n",
       "  0.2728002139609521,\n",
       "  0.15191227600962826,\n",
       "  0.0]}"
      ]
     },
     "execution_count": 29,
     "metadata": {},
     "output_type": "execute_result"
    }
   ],
   "source": [
    "probs"
   ]
  },
  {
   "cell_type": "code",
   "execution_count": 30,
   "id": "ded878a9",
   "metadata": {},
   "outputs": [],
   "source": [
    "states = ['checkout','dairy','drinks','fruit','spices']\n",
    "current_state = 'fruit'"
   ]
  },
  {
   "cell_type": "code",
   "execution_count": 31,
   "id": "63eaa097",
   "metadata": {},
   "outputs": [
    {
     "data": {
      "text/plain": [
       "['checkout']"
      ]
     },
     "execution_count": 31,
     "metadata": {},
     "output_type": "execute_result"
    }
   ],
   "source": [
    "random.choices(states, weights=probs[current_state])"
   ]
  },
  {
   "cell_type": "code",
   "execution_count": 32,
   "id": "a02df1ea",
   "metadata": {},
   "outputs": [
    {
     "data": {
      "text/plain": [
       "'spices'"
      ]
     },
     "execution_count": 32,
     "metadata": {},
     "output_type": "execute_result"
    }
   ],
   "source": [
    "random.choices(states, weights=probs[current_state])[0]"
   ]
  },
  {
   "cell_type": "code",
   "execution_count": 33,
   "id": "8d102ccb",
   "metadata": {},
   "outputs": [],
   "source": [
    "class Customer:\n",
    "    def __init__(self, budget=100):\n",
    "        self.ID = np.random.choice(df['ID'].unique())\n",
    "        self.current_state = np.random.choice([\"dairy\", \"spices\", \"drinks\", \"fruit\"])\n",
    "        self.transition_probs = probs \n",
    "        self.budget = budget\n",
    "    def __repr__(self):\n",
    "        return f'|Customer {self.ID} is in {self.current_state}|'\n",
    "    def next_state(self):\n",
    "        '''\n",
    "        Propagates the customer to the next state.\n",
    "        Returns nothing.\n",
    "        \n",
    "        '''\n",
    "        self.status = ['checkout','dairy','drinks','fruit','spices']\n",
    "        self.current_state = random.choices(states, weights=probs[self.current_state])[0]\n",
    "        #return f'| and the next state will be : {random.choices(states, weights=probs[self.current_state])[0]}|'\n",
    "        return self.current_state\n",
    "    def is_active(self):\n",
    "        \"\"\"Returns True if the customer has not reached the checkout yet.\"\"\"\n",
    "        is_active_value=True\n",
    "        #return (\" The customer is active\")\n",
    "        if(self.current_state==\"checkout\"):\n",
    "            is_active_value=False\n",
    "        return is_active_value"
   ]
  },
  {
   "cell_type": "code",
   "execution_count": 34,
   "id": "9ab93ab2",
   "metadata": {},
   "outputs": [
    {
     "data": {
      "text/plain": [
       "|Customer Wednesday_878 is in dairy|"
      ]
     },
     "execution_count": 34,
     "metadata": {},
     "output_type": "execute_result"
    }
   ],
   "source": [
    "cust1 = Customer()\n",
    "cust1"
   ]
  },
  {
   "cell_type": "code",
   "execution_count": 35,
   "id": "2f47347e",
   "metadata": {},
   "outputs": [
    {
     "data": {
      "text/plain": [
       "'spices'"
      ]
     },
     "execution_count": 35,
     "metadata": {},
     "output_type": "execute_result"
    }
   ],
   "source": [
    "cust1.next_state( )"
   ]
  },
  {
   "cell_type": "code",
   "execution_count": 36,
   "id": "601995f8",
   "metadata": {},
   "outputs": [
    {
     "data": {
      "text/plain": [
       "True"
      ]
     },
     "execution_count": 36,
     "metadata": {},
     "output_type": "execute_result"
    }
   ],
   "source": [
    "cust1.is_active()"
   ]
  },
  {
   "cell_type": "code",
   "execution_count": 71,
   "id": "bac06ffb",
   "metadata": {},
   "outputs": [],
   "source": [
    "class Supermarket:\n",
    "    \"\"\"manages multiple Customer instances that are currently in the market.\n",
    "    \"\"\"\n",
    "\n",
    "    def __init__(self):        \n",
    "        # a list of Customer objects\n",
    "        self.customers = []\n",
    "        self.minutes = 0\n",
    "        self.time = self.get_time()\n",
    "        self.last_id = 0\n",
    "        self.all_states=[]\n",
    "\n",
    "    def __repr__(self):\n",
    "        \n",
    "        return  f'Supermarket(\"{self.customers}\", \"{self.get_time()}\")'\n",
    "\n",
    "    def get_time(self):\n",
    "        \"\"\"current time in HH:MM format,\n",
    "        \"\"\"\n",
    "        hour = self.minutes // 60 + 8\n",
    "        minutes = self.minutes % 60\n",
    "        return f'{str(hour).zfill(2)}:{str(minutes).zfill(2)}'\n",
    "\n",
    "    def print_customers(self):\n",
    "        \"\"\"print all customers with the current time and id in CSV format.\n",
    "        \"\"\"\n",
    "        self.current_time = self.get_time()\n",
    "        #print(f'{self.minutes}')\n",
    "        for cust in self.customers:\n",
    "            dic={\"time\":self.get_time(),\"customer_id\":cust.ID, \"location\":cust.current_state}\n",
    "            self.all_states.append(dic)\n",
    "            print(f'{cust}')\n",
    "\n",
    "    def next_minute(self):\n",
    "        \"\"\"propagates all customers to the next state.\n",
    "        \"\"\"\n",
    "        self.minutes += 1\n",
    "        for cust in self.customers:\n",
    "            if(cust.is_active()==True):\n",
    "                cust.next_state()\n",
    "                print(cust.next_state())\n",
    "                #print(f'{cust}')\n",
    "    def add_new_customers(self):\n",
    "        \"\"\"randomly creates new customers.\n",
    "        \"\"\"\n",
    "        how_many=3\n",
    "        for i in range(how_many):\n",
    "            cust=Customer()\n",
    "            self.customers.append(cust)\n",
    "\n",
    "    def remove_exitsting_customers(self):\n",
    "        \"\"\"removes every customer that is not active any more.\n",
    "        \"\"\"\n",
    "        for cust in self.customers:\n",
    "            if (cust.is_active()==False):\n",
    "                print(f\" {cust.ID} left\")\n",
    "                self.customers.remove(cust)\n",
    "    def convert_to_csv(self):\n",
    "        \"\"\"add list of dictionary to data frame then csv file\n",
    "        \"\"\"             \n",
    "        df = pd.DataFrame.from_dict(self.all_states, orient='columns')\n",
    "        df.to_csv(\"new_data.csv\")"
   ]
  },
  {
   "cell_type": "code",
   "execution_count": 72,
   "id": "1141e30c",
   "metadata": {},
   "outputs": [
    {
     "data": {
      "text/plain": [
       "Supermarket(\"[]\", \"08:00\")"
      ]
     },
     "execution_count": 72,
     "metadata": {},
     "output_type": "execute_result"
    }
   ],
   "source": [
    "penny = Supermarket()\n",
    "penny"
   ]
  },
  {
   "cell_type": "code",
   "execution_count": 73,
   "id": "cf231c23",
   "metadata": {},
   "outputs": [
    {
     "name": "stdout",
     "output_type": "stream",
     "text": [
      "|Customer Thursday_1295 is in dairy|\n",
      "|Customer Tuesday_323 is in spices|\n",
      "|Customer Thursday_49 is in spices|\n",
      "checkout\n",
      "checkout\n",
      "checkout\n",
      " Thursday_1295 left\n",
      " Thursday_49 left\n",
      "|Customer Tuesday_323 is in checkout|\n",
      "|Customer Friday_1139 is in spices|\n",
      "|Customer Wednesday_982 is in dairy|\n",
      "|Customer Friday_1303 is in drinks|\n",
      "checkout\n",
      "fruit\n",
      "drinks\n",
      " Tuesday_323 left\n",
      "|Customer Friday_1139 is in checkout|\n",
      "|Customer Wednesday_982 is in fruit|\n",
      "|Customer Friday_1303 is in drinks|\n",
      "|Customer Wednesday_429 is in spices|\n",
      "|Customer Wednesday_915 is in spices|\n",
      "|Customer Tuesday_868 is in drinks|\n",
      "checkout\n",
      "checkout\n",
      "checkout\n",
      "checkout\n",
      "checkout\n",
      " Friday_1139 left\n",
      " Friday_1303 left\n",
      " Wednesday_915 left\n"
     ]
    }
   ],
   "source": [
    "for i in range(3):\n",
    "    penny.add_new_customers()\n",
    "    penny.print_customers()\n",
    "    penny.get_time()\n",
    "    penny.next_minute()\n",
    "    penny.remove_exitsting_customers()\n",
    "    penny.get_time()\n",
    "penny.convert_to_csv()"
   ]
  },
  {
   "cell_type": "code",
   "execution_count": 74,
   "id": "1f5a69cc",
   "metadata": {},
   "outputs": [
    {
     "data": {
      "text/plain": [
       "Supermarket(\"[|Customer Wednesday_982 is in checkout|, |Customer Wednesday_429 is in checkout|, |Customer Tuesday_868 is in checkout|]\", \"08:03\")"
      ]
     },
     "execution_count": 74,
     "metadata": {},
     "output_type": "execute_result"
    }
   ],
   "source": [
    "penny"
   ]
  },
  {
   "cell_type": "code",
   "execution_count": null,
   "id": "96b58162",
   "metadata": {},
   "outputs": [],
   "source": []
  },
  {
   "cell_type": "code",
   "execution_count": null,
   "id": "7993d4d1",
   "metadata": {},
   "outputs": [],
   "source": []
  }
 ],
 "metadata": {
  "kernelspec": {
   "display_name": "Python 3 (ipykernel)",
   "language": "python",
   "name": "python3"
  },
  "language_info": {
   "codemirror_mode": {
    "name": "ipython",
    "version": 3
   },
   "file_extension": ".py",
   "mimetype": "text/x-python",
   "name": "python",
   "nbconvert_exporter": "python",
   "pygments_lexer": "ipython3",
   "version": "3.8.3"
  }
 },
 "nbformat": 4,
 "nbformat_minor": 5
}
