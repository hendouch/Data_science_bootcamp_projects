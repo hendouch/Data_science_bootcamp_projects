{
 "cells": [
  {
   "cell_type": "code",
   "execution_count": null,
   "metadata": {},
   "outputs": [],
   "source": [
    "import pandas as pd\n",
    "\n",
    "spices = ['One-Hot Chili Peppers',\n",
    "          'Bayesian Basil',\n",
    "          'Tensor Thyme'\n",
    "          'Linear Lavender',\n",
    "          'Artificial Neural Nutmeg',\n",
    "          'Polynomial Peppermint',\n",
    "          'Sigmoid Saffron'\n",
    "          ]\n",
    "participants = [2, 6, 9, 9, 9, 8]\n",
    "\n",
    "df = pd.DataFrame({'name': spices,\n",
    "                   'participants': participants\n",
    "                   })\n",
    "\n",
    "print(df.sort_values(by='participants', ascending=False))\n",
    "\n",
    "print(\"\\ntotal participants:\", df.sum(['participants']))"
   ]
  }
 ],
 "metadata": {
  "kernelspec": {
   "display_name": "Python 3",
   "language": "python",
   "name": "python3"
  },
  "orig_nbformat": 4
 },
 "nbformat": 4,
 "nbformat_minor": 2
}
